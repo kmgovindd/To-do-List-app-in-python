{
 "cells": [
  {
   "cell_type": "code",
   "execution_count": 9,
   "id": "18fe824e",
   "metadata": {},
   "outputs": [],
   "source": [
    "import tkinter as tk\n",
    "class ToDoList:\n",
    "    def __init__(self, root):\n",
    "        self.root = root\n",
    "        self.root.title(\"To-Do List App\")\n",
    "\n",
    "        # Task List\n",
    "        self.task_listbox = tk.Listbox(root, selectmode=tk.SINGLE, width=30, height=20)\n",
    "        self.task_listbox.pack(pady=5)\n",
    "\n",
    "        # For adding new tasks\n",
    "        self.new_task_entry = tk.Entry(root, width=50)\n",
    "        self.new_task_entry.pack(pady=5)\n",
    "\n",
    "        # Buttons\n",
    "        tk.Button(root, text=\"Add Task\", command=self.add_task).pack(pady=2)\n",
    "        tk.Button(root, text=\"Remove a Task\", command=self.remove_task).pack(pady=2)\n",
    "        tk.Button(root, text=\"View your Tasks\", command=self.view_tasks).pack(pady=2)\n",
    "\n",
    "    def add_task(self):\n",
    "        new_task = self.new_task_entry.get()\n",
    "        if new_task:\n",
    "            self.task_listbox.insert(tk.END, new_task)\n",
    "            self.new_task_entry.delete(0, tk.END)\n",
    "\n",
    "    def remove_task(self):\n",
    "        selected_task_index = self.task_listbox.curselection()\n",
    "        if selected_task_index:\n",
    "            self.task_listbox.delete(selected_task_index)\n",
    "\n",
    "    def view_tasks(self):\n",
    "        task_count = self.task_listbox.size()\n",
    "        if task_count == 0:\n",
    "            print(\"Your to-do list is empty.\")\n",
    "        else:\n",
    "            print(\"To-Do List:\")\n",
    "            for index in range(task_count):\n",
    "                task = self.task_listbox.get(index)\n",
    "                print(f\"{index + 1}. {task}\")\n",
    "\n",
    "def main():\n",
    "    root = tk.Tk()\n",
    "    todo_app = ToDoList(root)\n",
    "    root.mainloop()\n",
    "\n",
    "if __name__ == \"__main__\":\n",
    "    main()\n"
   ]
  },
  {
   "cell_type": "code",
   "execution_count": null,
   "id": "74de9d0d",
   "metadata": {},
   "outputs": [],
   "source": []
  }
 ],
 "metadata": {
  "kernelspec": {
   "display_name": "Python 3 (ipykernel)",
   "language": "python",
   "name": "python3"
  },
  "language_info": {
   "codemirror_mode": {
    "name": "ipython",
    "version": 3
   },
   "file_extension": ".py",
   "mimetype": "text/x-python",
   "name": "python",
   "nbconvert_exporter": "python",
   "pygments_lexer": "ipython3",
   "version": "3.11.5"
  }
 },
 "nbformat": 4,
 "nbformat_minor": 5
}
